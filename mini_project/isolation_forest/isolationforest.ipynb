{
 "cells": [
  {
   "cell_type": "markdown",
   "metadata": {
    "colab_type": "text",
    "id": "St5XBquhprQP"
   },
   "source": [
    "<h1><center>Anomaly Detection with Isolation Forest</center></h1>\n",
    "<h2><center>M. Esmali, PhD</center></h2>\n"
   ]
  },
  {
   "cell_type": "markdown",
   "metadata": {},
   "source": [
    "## Import libraries"
   ]
  },
  {
   "cell_type": "code",
   "execution_count": 1,
   "metadata": {
    "colab": {
     "base_uri": "https://localhost:8080/",
     "height": 87
    },
    "colab_type": "code",
    "executionInfo": {
     "elapsed": 2883,
     "status": "ok",
     "timestamp": 1590744500224,
     "user": {
      "displayName": "Mohammad Esmalifalak",
      "photoUrl": "https://lh3.googleusercontent.com/a-/AOh14GjCvyrrf-0bsFjCwJomrKewRG_JVegdJRdtTu5s-w=s64",
      "userId": "05177391190915900502"
     },
     "user_tz": 240
    },
    "id": "bVkqGKrkJIad",
    "outputId": "b48b6258-ac5c-40cd-d185-94ea5d951800"
   },
   "outputs": [],
   "source": [
    "import numpy as np\n",
    "import pandas as pd\n",
    "import seaborn as sns\n",
    "import matplotlib.pyplot as plt\n",
    "import matplotlib.gridspec as gridspec\n",
    "from sklearn.ensemble import IsolationForest\n",
    "from sklearn.preprocessing import5"
   ]
  },
  {
   "cell_type": "markdown",
   "metadata": {
    "colab_type": "text",
    "id": "SJC1h0xCpO9f"
   },
   "source": [
    "## Import Data from CSV files\n",
    "\n"
   ]
  },
  {
   "cell_type": "code",
   "execution_count": 2,
   "metadata": {},
   "outputs": [
    {
     "data": {
      "text/plain": [
       "<matplotlib.collections.PathCollection at 0x102887240>"
      ]
     },
     "execution_count": 2,
     "metadata": {},
     "output_type": "execute_result"
    },
    {
     "data": {
      "image/png": "[encoded data removed]",
      "text/plain": [
       "<Figure size 432x288 with 1 Axes>"
      ]
     },
     "metadata": {
      "needs_background": "light"
     },
     "output_type": "display_data"
    }
   ],
   "source": [
    "df = pd.read_csv('data_set_A.csv')\n",
    "\n",
    "df.head()\n",
    "\n",
    "x = df.values\n",
    "\n",
    "plt.scatter(x[:,0], x[:,1])"
   ]
  },
  {
   "cell_type": "markdown",
   "metadata": {},
   "source": [
    "## Model Training - [IsolationForest](https://scikit-learn.org/stable/modules/generated/sklearn.ensemble.IsolationForest.html)\n",
    "\n"
   ]
  },
  {
   "cell_type": "code",
   "execution_count": 3,
   "metadata": {},
   "outputs": [
    {
     "name": "stderr",
     "output_type": "stream",
     "text": [
      "//anaconda3/lib/python3.7/site-packages/sklearn/ensemble/iforest.py:247: FutureWarning: behaviour=\"old\" is deprecated and will be removed in version 0.22. Please use behaviour=\"new\", which makes the decision_function change to match other anomaly detection algorithm API.\n",
      "  FutureWarning)\n",
      "//anaconda3/lib/python3.7/site-packages/sklearn/ensemble/iforest.py:415: DeprecationWarning: threshold_ attribute is deprecated in 0.20 and will be removed in 0.22.\n",
      "  \" be removed in 0.22.\", DeprecationWarning)\n"
     ]
    }
   ],
   "source": [
    "clf = IsolationForest(contamination=.1)\n",
    "clf.fit(x)\n",
    "predictions = clf.predict(x)"
   ]
  },
  {
   "cell_type": "code",
   "execution_count": 4,
   "metadata": {},
   "outputs": [
    {
     "data": {
      "text/plain": [
       "0.1"
      ]
     },
     "execution_count": 4,
     "metadata": {},
     "output_type": "execute_result"
    }
   ],
   "source": [
    "(predictions<0).mean()"
   ]
  },
  {
   "cell_type": "code",
   "execution_count": 5,
   "metadata": {},
   "outputs": [],
   "source": [
    "abn_ind = np.where(predictions < 0)"
   ]
  },
  {
   "cell_type": "code",
   "execution_count": 6,
   "metadata": {},
   "outputs": [
    {
     "data": {
      "text/plain": [
       "<matplotlib.collections.PathCollection at 0x103923198>"
      ]
     },
     "execution_count": 6,
     "metadata": {},
     "output_type": "execute_result"
    },
    {
     "data": {
      "image/png": "[encoded data removed]",
      "text/plain": [
       "<Figure size 432x288 with 1 Axes>"
      ]
     },
     "metadata": {
      "needs_background": "light"
     },
     "output_type": "display_data"
    }
   ],
   "source": [
    "plt.scatter(x[:,0], x[:,1])\n",
    "plt.scatter(x[abn_ind,0], x[abn_ind,1], edgecolors=\"r\")"
   ]
  },
  {
   "cell_type": "markdown",
   "metadata": {},
   "source": [
    "# time series data \n"
   ]
  },
  {
   "cell_type": "code",
   "execution_count": 7,
   "metadata": {},
   "outputs": [
    {
     "data": {
      "text/html": [
       "<div>\n",
       "<style scoped>\n",
       "    .dataframe tbody tr th:only-of-type {\n",
       "        vertical-align: middle;\n",
       "    }\n",
       "\n",
       "    .dataframe tbody tr th {\n",
       "        vertical-align: top;\n",
       "    }\n",
       "\n",
       "    .dataframe thead th {\n",
       "        text-align: right;\n",
       "    }\n",
       "</style>\n",
       "<table border=\"1\" class=\"dataframe\">\n",
       "  <thead>\n",
       "    <tr style=\"text-align: right;\">\n",
       "      <th></th>\n",
       "      <th>sensor1</th>\n",
       "      <th>sensor2</th>\n",
       "      <th>sensor3</th>\n",
       "    </tr>\n",
       "    <tr>\n",
       "      <th>time</th>\n",
       "      <th></th>\n",
       "      <th></th>\n",
       "      <th></th>\n",
       "    </tr>\n",
       "  </thead>\n",
       "  <tbody>\n",
       "    <tr>\n",
       "      <th>2020-04-01 00:00:00</th>\n",
       "      <td>0.248380</td>\n",
       "      <td>3.214768</td>\n",
       "      <td>12.313405</td>\n",
       "    </tr>\n",
       "    <tr>\n",
       "      <th>2020-04-01 00:01:00</th>\n",
       "      <td>2.258430</td>\n",
       "      <td>1.054156</td>\n",
       "      <td>11.453157</td>\n",
       "    </tr>\n",
       "    <tr>\n",
       "      <th>2020-04-01 00:02:00</th>\n",
       "      <td>4.834818</td>\n",
       "      <td>0.284641</td>\n",
       "      <td>10.082687</td>\n",
       "    </tr>\n",
       "    <tr>\n",
       "      <th>2020-04-01 00:03:00</th>\n",
       "      <td>5.058023</td>\n",
       "      <td>0.845871</td>\n",
       "      <td>9.870637</td>\n",
       "    </tr>\n",
       "    <tr>\n",
       "      <th>2020-04-01 00:04:00</th>\n",
       "      <td>6.888020</td>\n",
       "      <td>-2.019289</td>\n",
       "      <td>9.265985</td>\n",
       "    </tr>\n",
       "  </tbody>\n",
       "</table>\n",
       "</div>"
      ],
      "text/plain": [
       "                      sensor1   sensor2    sensor3\n",
       "time                                              \n",
       "2020-04-01 00:00:00  0.248380  3.214768  12.313405\n",
       "2020-04-01 00:01:00  2.258430  1.054156  11.453157\n",
       "2020-04-01 00:02:00  4.834818  0.284641  10.082687\n",
       "2020-04-01 00:03:00  5.058023  0.845871   9.870637\n",
       "2020-04-01 00:04:00  6.888020 -2.019289   9.265985"
      ]
     },
     "execution_count": 7,
     "metadata": {},
     "output_type": "execute_result"
    }
   ],
   "source": [
    "df_sen = pd.read_csv('sensors.csv', index_col='time')\n",
    "df_sen.head()"
   ]
  },
  {
   "cell_type": "code",
   "execution_count": 8,
   "metadata": {},
   "outputs": [
    {
     "data": {
      "text/plain": [
       "pandas.core.indexes.datetimes.DatetimeIndex"
      ]
     },
     "execution_count": 8,
     "metadata": {},
     "output_type": "execute_result"
    }
   ],
   "source": [
    "df_sen.index = pd.to_datetime(df_sen.index)\n",
    "type(df_sen.index)"
   ]
  },
  {
   "cell_type": "code",
   "execution_count": 9,
   "metadata": {},
   "outputs": [
    {
     "name": "stderr",
     "output_type": "stream",
     "text": [
      "//anaconda3/lib/python3.7/site-packages/sklearn/ensemble/iforest.py:247: FutureWarning: behaviour=\"old\" is deprecated and will be removed in version 0.22. Please use behaviour=\"new\", which makes the decision_function change to match other anomaly detection algorithm API.\n",
      "  FutureWarning)\n",
      "//anaconda3/lib/python3.7/site-packages/sklearn/ensemble/iforest.py:415: DeprecationWarning: threshold_ attribute is deprecated in 0.20 and will be removed in 0.22.\n",
      "  \" be removed in 0.22.\", DeprecationWarning)\n"
     ]
    },
    {
     "data": {
      "text/plain": [
       "[<matplotlib.lines.Line2D at 0x1a178b40b8>]"
      ]
     },
     "execution_count": 9,
     "metadata": {},
     "output_type": "execute_result"
    },
    {
     "data": {
      "image/png": "[encoded data removed]",
      "text/plain": [
       "<Figure size 432x288 with 1 Axes>"
      ]
     },
     "metadata": {
      "needs_background": "light"
     },
     "output_type": "display_data"
    }
   ],
   "source": [
    "x = df_sen.values\n",
    "\n",
    "clf = IsolationForest(contamination=.1)\n",
    "predictions = clf.fit_predict(x)\n",
    "dec_fun = clf.decision_function(x)\n",
    "\n",
    "plt.plot(dec_fun)"
   ]
  },
  {
   "cell_type": "code",
   "execution_count": 10,
   "metadata": {},
   "outputs": [
    {
     "data": {
      "text/html": [
       "<div>\n",
       "<style scoped>\n",
       "    .dataframe tbody tr th:only-of-type {\n",
       "        vertical-align: middle;\n",
       "    }\n",
       "\n",
       "    .dataframe tbody tr th {\n",
       "        vertical-align: top;\n",
       "    }\n",
       "\n",
       "    .dataframe thead th {\n",
       "        text-align: right;\n",
       "    }\n",
       "</style>\n",
       "<table border=\"1\" class=\"dataframe\">\n",
       "  <thead>\n",
       "    <tr style=\"text-align: right;\">\n",
       "      <th></th>\n",
       "      <th>sensor1</th>\n",
       "      <th>sensor2</th>\n",
       "      <th>sensor3</th>\n",
       "      <th>health</th>\n",
       "    </tr>\n",
       "    <tr>\n",
       "      <th>time</th>\n",
       "      <th></th>\n",
       "      <th></th>\n",
       "      <th></th>\n",
       "      <th></th>\n",
       "    </tr>\n",
       "  </thead>\n",
       "  <tbody>\n",
       "    <tr>\n",
       "      <th>2020-04-01 00:00:00</th>\n",
       "      <td>0.248380</td>\n",
       "      <td>3.214768</td>\n",
       "      <td>12.313405</td>\n",
       "      <td>-0.116957</td>\n",
       "    </tr>\n",
       "    <tr>\n",
       "      <th>2020-04-01 00:01:00</th>\n",
       "      <td>2.258430</td>\n",
       "      <td>1.054156</td>\n",
       "      <td>11.453157</td>\n",
       "      <td>0.025641</td>\n",
       "    </tr>\n",
       "    <tr>\n",
       "      <th>2020-04-01 00:02:00</th>\n",
       "      <td>4.834818</td>\n",
       "      <td>0.284641</td>\n",
       "      <td>10.082687</td>\n",
       "      <td>0.107654</td>\n",
       "    </tr>\n",
       "    <tr>\n",
       "      <th>2020-04-01 00:03:00</th>\n",
       "      <td>5.058023</td>\n",
       "      <td>0.845871</td>\n",
       "      <td>9.870637</td>\n",
       "      <td>0.094334</td>\n",
       "    </tr>\n",
       "    <tr>\n",
       "      <th>2020-04-01 00:04:00</th>\n",
       "      <td>6.888020</td>\n",
       "      <td>-2.019289</td>\n",
       "      <td>9.265985</td>\n",
       "      <td>0.059129</td>\n",
       "    </tr>\n",
       "  </tbody>\n",
       "</table>\n",
       "</div>"
      ],
      "text/plain": [
       "                      sensor1   sensor2    sensor3    health\n",
       "time                                                        \n",
       "2020-04-01 00:00:00  0.248380  3.214768  12.313405 -0.116957\n",
       "2020-04-01 00:01:00  2.258430  1.054156  11.453157  0.025641\n",
       "2020-04-01 00:02:00  4.834818  0.284641  10.082687  0.107654\n",
       "2020-04-01 00:03:00  5.058023  0.845871   9.870637  0.094334\n",
       "2020-04-01 00:04:00  6.888020 -2.019289   9.265985  0.059129"
      ]
     },
     "execution_count": 10,
     "metadata": {},
     "output_type": "execute_result"
    }
   ],
   "source": [
    "df_sen['health'] = dec_fun\n",
    "df_sen.head()"
   ]
  },
  {
   "cell_type": "code",
   "execution_count": 15,
   "metadata": {},
   "outputs": [
    {
     "data": {
      "text/plain": [
       "<matplotlib.patches.Polygon at 0x1a1840ccf8>"
      ]
     },
     "execution_count": 15,
     "metadata": {},
     "output_type": "execute_result"
    },
    {
     "data": {
      "image/png": "[encoded data removed]",
      "text/plain": [
       "<Figure size 432x288 with 1 Axes>"
      ]
     },
     "metadata": {
      "needs_background": "light"
     },
     "output_type": "display_data"
    }
   ],
   "source": [
    "plt.plot(df_sen['health'].resample('15T').mean())\n",
    "plt.axhspan(-.05, .03, alpha=0.2, color='red')"
   ]
  },
  {
   "cell_type": "markdown",
   "metadata": {},
   "source": []
  },
  {
   "cell_type": "code",
   "execution_count": null,
   "metadata": {},
   "outputs": [],
   "source": []
  },
  {
   "cell_type": "code",
   "execution_count": null,
   "metadata": {},
   "outputs": [],
   "source": []
  },
  {
   "cell_type": "code",
   "execution_count": null,
   "metadata": {},
   "outputs": [],
   "source": []
  },
  {
   "cell_type": "code",
   "execution_count": null,
   "metadata": {},
   "outputs": [],
   "source": []
  },
  {
   "cell_type": "code",
   "execution_count": null,
   "metadata": {},
   "outputs": [],
   "source": []
  },
  {
   "cell_type": "code",
   "execution_count": null,
   "metadata": {},
   "outputs": [],
   "source": []
  },
  {
   "cell_type": "code",
   "execution_count": null,
   "metadata": {},
   "outputs": [],
   "source": []
  },
  {
   "cell_type": "code",
   "execution_count": null,
   "metadata": {},
   "outputs": [],
   "source": []
  },
  {
   "cell_type": "code",
   "execution_count": null,
   "metadata": {},
   "outputs": [],
   "source": []
  },
  {
   "cell_type": "code",
   "execution_count": null,
   "metadata": {},
   "outputs": [],
   "source": []
  },
  {
   "cell_type": "code",
   "execution_count": null,
   "metadata": {},
   "outputs": [],
   "source": []
  }
 ],
 "metadata": {
  "colab": {
   "collapsed_sections": [],
   "name": "iforest.ipynb",
   "provenance": [
    {
     "file_id": "1e_cPRd29kD4E2E2RY2xiNLCJtbCypt85",
     "timestamp": 1587487568171
    },
    {
     "file_id": "1RPET5QFxZMVryzYd2ZyFLFPYstuTit9c",
     "timestamp": 1580401183610
    }
   ],
   "toc_visible": true
  },
  "kernelspec": {
   "display_name": "Python 3",
   "language": "python",
   "name": "python3"
  },
  "language_info": {
   "codemirror_mode": {
    "name": "ipython",
    "version": 3
   },
   "file_extension": ".py",
   "mimetype": "text/x-python",
   "name": "python",
   "nbconvert_exporter": "python",
   "pygments_lexer": "ipython3",
   "version": "3.7.3"
  }
 },
 "nbformat": 4,
 "nbformat_minor": 4
}
